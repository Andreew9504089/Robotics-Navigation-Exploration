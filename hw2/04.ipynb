{
 "cells": [
  {
   "cell_type": "code",
   "execution_count": 3,
   "id": "6b4ab17d",
   "metadata": {},
   "outputs": [
    {
     "name": "stdout",
     "output_type": "stream",
     "text": [
      "[[586.62072169   0.         500.05945169]\n",
      " [  0.         585.09353415 348.22958365]\n",
      " [  0.           0.           1.        ]] [[-0.3543941   0.16538891 -0.00056648  0.00067869 -0.04171842]]\n",
      "==============================\n",
      "Camera.fx: 586.62072169\n",
      "Camera.fy: 585.09353415\n",
      "Camera.cx: 500.05945169\n",
      "Camera.cy: 348.22958365\n",
      "\n",
      "Camera.k1: -0.35439410\n",
      "Camera.k2: 0.16538891\n",
      "Camera.p1: -0.00056648\n",
      "Camera.p2: 0.00067869\n",
      "Camera.k3: -0.04171842\n"
     ]
    }
   ],
   "source": [
    "import numpy as np \n",
    "import cv2\n",
    "\n",
    "npz_file = np.load('camera.npz')\n",
    "ret, mtx, dist, rvecs, tvecs = npz_file['ret'], npz_file['mtx'], npz_file['dist'], npz_file['rvecs'], npz_file['tvecs']\n",
    "print(mtx, dist)\n",
    "print(\"==============================\")\n",
    "print(\"Camera.fx: \" + str(format(mtx[0,0], '.8f')))\n",
    "print(\"Camera.fy: \" + str(format(mtx[1,1], '.8f')))\n",
    "print(\"Camera.cx: \" + str(format(mtx[0,2], '.8f')))\n",
    "print(\"Camera.cy: \" + str(format(mtx[1,2], '.8f')))\n",
    "print()\n",
    "print(\"Camera.k1: \" + str(format(dist[0,0], '.8f')))\n",
    "print(\"Camera.k2: \" + str(format(dist[0,1], '.8f')))\n",
    "print(\"Camera.p1: \" + str(format(dist[0,2], '.8f')))\n",
    "print(\"Camera.p2: \" + str(format(dist[0,3], '.8f')))\n",
    "print(\"Camera.k3: \" + str(format(dist[0,4], '.8f')))"
   ]
  },
  {
   "cell_type": "code",
   "execution_count": null,
   "id": "27630fcb",
   "metadata": {},
   "outputs": [],
   "source": []
  }
 ],
 "metadata": {
  "kernelspec": {
   "display_name": "Python 3 (ipykernel)",
   "language": "python",
   "name": "python3"
  },
  "language_info": {
   "codemirror_mode": {
    "name": "ipython",
    "version": 3
   },
   "file_extension": ".py",
   "mimetype": "text/x-python",
   "name": "python",
   "nbconvert_exporter": "python",
   "pygments_lexer": "ipython3",
   "version": "3.9.7"
  }
 },
 "nbformat": 4,
 "nbformat_minor": 5
}
